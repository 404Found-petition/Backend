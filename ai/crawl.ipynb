{
 "cells": [
  {
   "cell_type": "code",
   "execution_count": 1,
   "metadata": {},
   "outputs": [
    {
     "name": "stdout",
     "output_type": "stream",
     "text": [
      "Requirement already satisfied: pandas in /Users/sky/VSCode/petition/env/lib/python3.13/site-packages (2.2.3)\n",
      "Requirement already satisfied: beautifulsoup4 in /Users/sky/VSCode/petition/env/lib/python3.13/site-packages (4.13.3)\n",
      "Requirement already satisfied: requests in /Users/sky/VSCode/petition/env/lib/python3.13/site-packages (2.32.3)\n",
      "Requirement already satisfied: tqdm in /Users/sky/VSCode/petition/env/lib/python3.13/site-packages (4.67.1)\n",
      "Requirement already satisfied: numpy>=1.26.0 in /Users/sky/VSCode/petition/env/lib/python3.13/site-packages (from pandas) (2.2.4)\n",
      "Requirement already satisfied: python-dateutil>=2.8.2 in /Users/sky/VSCode/petition/env/lib/python3.13/site-packages (from pandas) (2.9.0.post0)\n",
      "Requirement already satisfied: pytz>=2020.1 in /Users/sky/VSCode/petition/env/lib/python3.13/site-packages (from pandas) (2025.2)\n",
      "Requirement already satisfied: tzdata>=2022.7 in /Users/sky/VSCode/petition/env/lib/python3.13/site-packages (from pandas) (2025.2)\n",
      "Requirement already satisfied: soupsieve>1.2 in /Users/sky/VSCode/petition/env/lib/python3.13/site-packages (from beautifulsoup4) (2.6)\n",
      "Requirement already satisfied: typing-extensions>=4.0.0 in /Users/sky/VSCode/petition/env/lib/python3.13/site-packages (from beautifulsoup4) (4.12.2)\n",
      "Requirement already satisfied: charset-normalizer<4,>=2 in /Users/sky/VSCode/petition/env/lib/python3.13/site-packages (from requests) (3.4.1)\n",
      "Requirement already satisfied: idna<4,>=2.5 in /Users/sky/VSCode/petition/env/lib/python3.13/site-packages (from requests) (3.10)\n",
      "Requirement already satisfied: urllib3<3,>=1.21.1 in /Users/sky/VSCode/petition/env/lib/python3.13/site-packages (from requests) (2.3.0)\n",
      "Requirement already satisfied: certifi>=2017.4.17 in /Users/sky/VSCode/petition/env/lib/python3.13/site-packages (from requests) (2025.1.31)\n",
      "Requirement already satisfied: six>=1.5 in /Users/sky/VSCode/petition/env/lib/python3.13/site-packages (from python-dateutil>=2.8.2->pandas) (1.17.0)\n",
      "\n",
      "\u001b[1m[\u001b[0m\u001b[34;49mnotice\u001b[0m\u001b[1;39;49m]\u001b[0m\u001b[39;49m A new release of pip is available: \u001b[0m\u001b[31;49m25.0\u001b[0m\u001b[39;49m -> \u001b[0m\u001b[32;49m25.0.1\u001b[0m\n",
      "\u001b[1m[\u001b[0m\u001b[34;49mnotice\u001b[0m\u001b[1;39;49m]\u001b[0m\u001b[39;49m To update, run: \u001b[0m\u001b[32;49mpip install --upgrade pip\u001b[0m\n",
      "✅ 기존 CSV 데이터 로드 성공!\n",
      "📌 CSV 파일의 열 목록: ['대', '청원번호', '청원제목', '청원인', '소개의원', '접수일자', '위원회회부일', '소관위', '의결결과', '의안구분', '상세보기URL', '상세보기URL2']\n"
     ]
    },
    {
     "name": "stderr",
     "output_type": "stream",
     "text": [
      "크롤링 진행 중: 100%|████████████████████████████████████████████████████████████████| 3730/3730 [1:42:48<00:00,  1.65s/it]"
     ]
    },
    {
     "name": "stdout",
     "output_type": "stream",
     "text": [
      "✅ 크롤링 완료! 저장된 파일: 청원_처리_현황_크롤링완료.csv\n",
      "🚀 크롤링이 완료되었습니다. 이제 `train.ipynb`를 실행하여 모델을 학습하세요!\n"
     ]
    },
    {
     "name": "stderr",
     "output_type": "stream",
     "text": [
      "\n"
     ]
    }
   ],
   "source": [
    "# ================================\n",
    "# 국회 청원 상세보기 URL 크롤링 코드 (Jupyter Notebook 실행 가능)\n",
    "# ================================\n",
    "\n",
    "# 1️⃣ 필수 라이브러리 설치 및 로드\n",
    "!pip install pandas beautifulsoup4 requests tqdm\n",
    "\n",
    "import requests\n",
    "import pandas as pd\n",
    "from bs4 import BeautifulSoup\n",
    "import time\n",
    "from tqdm import tqdm\n",
    "\n",
    "# 2️⃣ CSV 파일 로드\n",
    "file_path = \"청원_처리_현황.csv\"\n",
    "\n",
    "try:\n",
    "    df_petition = pd.read_csv(file_path, encoding=\"cp949\")\n",
    "    print(\"✅ 기존 CSV 데이터 로드 성공!\")\n",
    "    print(\"📌 CSV 파일의 열 목록:\", df_petition.columns.tolist())  # 열 목록 확인\n",
    "\n",
    "    # '청원내용' 열이 없으면 추가\n",
    "    if '청원내용' not in df_petition.columns:\n",
    "        df_petition['청원내용'] = None\n",
    "except Exception as e:\n",
    "    print(f\"❌ 기존 CSV 데이터 로드 실패: {e}\")\n",
    "    exit()\n",
    "\n",
    "# 3️⃣ 상세보기 URL에서 청원 요지를 크롤링하는 함수\n",
    "def get_petition_summary(url):\n",
    "    try:\n",
    "        response = requests.get(url, headers={\"User-Agent\": \"Mozilla/5.0\"})\n",
    "        if response.status_code == 200:\n",
    "            soup = BeautifulSoup(response.text, \"html.parser\")\n",
    "\n",
    "            # ✅ '청원 요지'가 포함된 태그 찾기 (국회 사이트의 HTML 구조 기반)\n",
    "            summary_element = soup.select_one(\"div.textType02#summaryContentDiv\")\n",
    "\n",
    "            if summary_element:\n",
    "                return summary_element.text.strip()\n",
    "\n",
    "            return None  # 청원 요지를 찾지 못한 경우\n",
    "        else:\n",
    "            print(f\"❌ 요청 실패: {url}\")\n",
    "            return None\n",
    "    except Exception as e:\n",
    "        print(f\"❌ 크롤링 오류: {e}\")\n",
    "        return None\n",
    "\n",
    "# 4️⃣ 상세보기 URL을 크롤링하여 청원 요지 추가\n",
    "for idx, row in tqdm(df_petition.iterrows(), total=len(df_petition), desc=\"크롤링 진행 중\"):\n",
    "    if pd.notna(row[\"상세보기URL\"]) and (pd.isna(row[\"청원내용\"]) or row[\"청원내용\"] == \"\"):  # 기존 데이터가 없을 때만 크롤링\n",
    "        df_petition.at[idx, \"청원내용\"] = get_petition_summary(row[\"상세보기URL\"])\n",
    "        time.sleep(1)  # 서버 부하 방지를 위해 1초 대기\n",
    "\n",
    "# 5️⃣ 크롤링 완료된 데이터 저장\n",
    "updated_file_path = \"청원_처리_현황_크롤링완료.csv\"\n",
    "df_petition.to_csv(updated_file_path, index=False, encoding=\"utf-8-sig\")\n",
    "print(f\"✅ 크롤링 완료! 저장된 파일: {updated_file_path}\")\n",
    "\n",
    "# 6️⃣ 크롤링 완료 후 학습 파일 실행 메시지 출력\n",
    "print(\"🚀 크롤링이 완료되었습니다. 이제 `train.ipynb`를 실행하여 모델을 학습하세요!\")"
   ]
  },
  {
   "cell_type": "code",
   "execution_count": null,
   "metadata": {},
   "outputs": [],
   "source": []
  }
 ],
 "metadata": {
  "kernelspec": {
   "display_name": "Python 3 (ipykernel)",
   "language": "python",
   "name": "python3"
  },
  "language_info": {
   "codemirror_mode": {
    "name": "ipython",
    "version": 3
   },
   "file_extension": ".py",
   "mimetype": "text/x-python",
   "name": "python",
   "nbconvert_exporter": "python",
   "pygments_lexer": "ipython3",
   "version": "3.13.2"
  }
 },
 "nbformat": 4,
 "nbformat_minor": 4
}
