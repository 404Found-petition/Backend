{
 "cells": [
  {
   "cell_type": "code",
   "execution_count": 1,
   "metadata": {},
   "outputs": [
    {
     "name": "stdout",
     "output_type": "stream",
     "text": [
      "\n",
      "\u001b[1m[\u001b[0m\u001b[34;49mnotice\u001b[0m\u001b[1;39;49m]\u001b[0m\u001b[39;49m A new release of pip is available: \u001b[0m\u001b[31;49m25.0\u001b[0m\u001b[39;49m -> \u001b[0m\u001b[32;49m25.0.1\u001b[0m\n",
      "\u001b[1m[\u001b[0m\u001b[34;49mnotice\u001b[0m\u001b[1;39;49m]\u001b[0m\u001b[39;49m To update, run: \u001b[0m\u001b[32;49mpip install --upgrade pip\u001b[0m\n"
     ]
    }
   ],
   "source": [
    "# ✅ 필요한 라이브러리 설치 (처음 1회만 실행)\n",
    "!pip install pandas konlpy scikit-learn wordcloud matplotlib ipywidgets --quiet"
   ]
  },
  {
   "cell_type": "code",
   "execution_count": 3,
   "metadata": {},
   "outputs": [
    {
     "name": "stdout",
     "output_type": "stream",
     "text": [
      "Requirement already satisfied: ipywidgets in /Users/sky/VSCode/petition/env/lib/python3.13/site-packages (8.1.5)\n",
      "Requirement already satisfied: comm>=0.1.3 in /Users/sky/VSCode/petition/env/lib/python3.13/site-packages (from ipywidgets) (0.2.2)\n",
      "Requirement already satisfied: ipython>=6.1.0 in /Users/sky/VSCode/petition/env/lib/python3.13/site-packages (from ipywidgets) (9.0.2)\n",
      "Requirement already satisfied: traitlets>=4.3.1 in /Users/sky/VSCode/petition/env/lib/python3.13/site-packages (from ipywidgets) (5.14.3)\n",
      "Requirement already satisfied: widgetsnbextension~=4.0.12 in /Users/sky/VSCode/petition/env/lib/python3.13/site-packages (from ipywidgets) (4.0.13)\n",
      "Requirement already satisfied: jupyterlab-widgets~=3.0.12 in /Users/sky/VSCode/petition/env/lib/python3.13/site-packages (from ipywidgets) (3.0.13)\n",
      "Requirement already satisfied: decorator in /Users/sky/VSCode/petition/env/lib/python3.13/site-packages (from ipython>=6.1.0->ipywidgets) (5.2.1)\n",
      "Requirement already satisfied: ipython-pygments-lexers in /Users/sky/VSCode/petition/env/lib/python3.13/site-packages (from ipython>=6.1.0->ipywidgets) (1.1.1)\n",
      "Requirement already satisfied: jedi>=0.16 in /Users/sky/VSCode/petition/env/lib/python3.13/site-packages (from ipython>=6.1.0->ipywidgets) (0.19.2)\n",
      "Requirement already satisfied: matplotlib-inline in /Users/sky/VSCode/petition/env/lib/python3.13/site-packages (from ipython>=6.1.0->ipywidgets) (0.1.7)\n",
      "Requirement already satisfied: pexpect>4.3 in /Users/sky/VSCode/petition/env/lib/python3.13/site-packages (from ipython>=6.1.0->ipywidgets) (4.9.0)\n",
      "Requirement already satisfied: prompt_toolkit<3.1.0,>=3.0.41 in /Users/sky/VSCode/petition/env/lib/python3.13/site-packages (from ipython>=6.1.0->ipywidgets) (3.0.50)\n",
      "Requirement already satisfied: pygments>=2.4.0 in /Users/sky/VSCode/petition/env/lib/python3.13/site-packages (from ipython>=6.1.0->ipywidgets) (2.19.1)\n",
      "Requirement already satisfied: stack_data in /Users/sky/VSCode/petition/env/lib/python3.13/site-packages (from ipython>=6.1.0->ipywidgets) (0.6.3)\n",
      "Requirement already satisfied: parso<0.9.0,>=0.8.4 in /Users/sky/VSCode/petition/env/lib/python3.13/site-packages (from jedi>=0.16->ipython>=6.1.0->ipywidgets) (0.8.4)\n",
      "Requirement already satisfied: ptyprocess>=0.5 in /Users/sky/VSCode/petition/env/lib/python3.13/site-packages (from pexpect>4.3->ipython>=6.1.0->ipywidgets) (0.7.0)\n",
      "Requirement already satisfied: wcwidth in /Users/sky/VSCode/petition/env/lib/python3.13/site-packages (from prompt_toolkit<3.1.0,>=3.0.41->ipython>=6.1.0->ipywidgets) (0.2.13)\n",
      "Requirement already satisfied: executing>=1.2.0 in /Users/sky/VSCode/petition/env/lib/python3.13/site-packages (from stack_data->ipython>=6.1.0->ipywidgets) (2.2.0)\n",
      "Requirement already satisfied: asttokens>=2.1.0 in /Users/sky/VSCode/petition/env/lib/python3.13/site-packages (from stack_data->ipython>=6.1.0->ipywidgets) (3.0.0)\n",
      "Requirement already satisfied: pure-eval in /Users/sky/VSCode/petition/env/lib/python3.13/site-packages (from stack_data->ipython>=6.1.0->ipywidgets) (0.2.3)\n",
      "\n",
      "\u001b[1m[\u001b[0m\u001b[34;49mnotice\u001b[0m\u001b[1;39;49m]\u001b[0m\u001b[39;49m A new release of pip is available: \u001b[0m\u001b[31;49m25.0\u001b[0m\u001b[39;49m -> \u001b[0m\u001b[32;49m25.0.1\u001b[0m\n",
      "\u001b[1m[\u001b[0m\u001b[34;49mnotice\u001b[0m\u001b[1;39;49m]\u001b[0m\u001b[39;49m To update, run: \u001b[0m\u001b[32;49mpip install --upgrade pip\u001b[0m\n",
      "usage: jupyter [-h] [--version] [--config-dir] [--data-dir] [--runtime-dir]\n",
      "               [--paths] [--json] [--debug]\n",
      "               [subcommand]\n",
      "\n",
      "Jupyter: Interactive Computing\n",
      "\n",
      "positional arguments:\n",
      "  subcommand     the subcommand to launch\n",
      "\n",
      "options:\n",
      "  -h, --help     show this help message and exit\n",
      "  --version      show the versions of core jupyter packages and exit\n",
      "  --config-dir   show Jupyter config dir\n",
      "  --data-dir     show Jupyter data dir\n",
      "  --runtime-dir  show Jupyter runtime dir\n",
      "  --paths        show all Jupyter paths. Add --json for machine-readable\n",
      "                 format.\n",
      "  --json         output paths as machine-readable json\n",
      "  --debug        output debug information about paths\n",
      "\n",
      "Available subcommands: console dejavu events execute kernel kernelspec lab\n",
      "labextension labhub migrate nbconvert notebook run server troubleshoot trust\n",
      "\n",
      "Jupyter command `jupyter-nbextension` not found.\n"
     ]
    }
   ],
   "source": [
    "!pip install ipywidgets\n",
    "!jupyter nbextension enable --py widgetsnbextension"
   ]
  },
  {
   "cell_type": "code",
   "execution_count": 4,
   "metadata": {},
   "outputs": [],
   "source": [
    "# ✅ 기본 모듈 import\n",
    "import pandas as pd\n",
    "from konlpy.tag import Okt\n",
    "from sklearn.feature_extraction.text import TfidfVectorizer\n",
    "from ipywidgets import interact, Dropdown\n",
    "from wordcloud import WordCloud\n",
    "import matplotlib.pyplot as plt\n",
    "\n",
    "# ✅ CSV 데이터 로드\n",
    "df = pd.read_csv(\"병합된_청원_데이터.csv\")\n",
    "\n",
    "# ✅ 날짜 처리\n",
    "df[\"등록일\"] = pd.to_datetime(df[\"접수일\"], errors=\"coerce\")\n",
    "df[\"월\"] = df[\"등록일\"].dt.to_period(\"M\")\n",
    "\n",
    "# ✅ Okt 형태소 분석기\n",
    "okt = Okt()\n",
    "\n",
    "# ✅ 문서 생성 (전체 & 월별)\n",
    "monthly_docs = {}\n",
    "all_docs = []\n",
    "\n",
    "for period, group in df.groupby(\"월\"):\n",
    "    texts = (group[\"청원명\"].fillna(\"\") + \" \" + group[\"청원요지\"].fillna(\"\")).tolist()\n",
    "    joined_text = \" \".join(texts)\n",
    "    nouns = [word for word in okt.nouns(joined_text) if 2 <= len(word) <= 5]\n",
    "    doc = \" \".join(nouns)\n",
    "    all_docs.append(doc)\n",
    "    monthly_docs[str(period)] = doc\n",
    "\n",
    "# ✅ TF-IDF 계산 (전체 문서 기준)\n",
    "vectorizer = TfidfVectorizer(token_pattern=r\"[가-힣]{2,5}\")\n",
    "tfidf_matrix = vectorizer.fit_transform(all_docs)\n",
    "feature_names = vectorizer.get_feature_names_out()\n",
    "global_tfidf = dict(zip(feature_names, tfidf_matrix.toarray().sum(axis=0)))"
   ]
  },
  {
   "cell_type": "code",
   "execution_count": null,
   "metadata": {},
   "outputs": [
    {
     "data": {
      "application/vnd.jupyter.widget-view+json": {
       "model_id": "d3416af967d6440fbb67d1c62f3dbd5b",
       "version_major": 2,
       "version_minor": 0
      },
      "text/plain": [
       "interactive(children=(Dropdown(description='분석할 월:', layout=Layout(width='300px'), options=('1988-02', '1988-0…"
      ]
     },
     "metadata": {},
     "output_type": "display_data"
    },
    {
     "data": {
      "text/plain": [
       "<function __main__.show_wordcloud(selected_month)>"
      ]
     },
     "execution_count": 5,
     "metadata": {},
     "output_type": "execute_result"
    }
   ],
   "source": [
    "# ✅ 불용어 정의 (트렌드 분석 방해 단어 제거)\n",
    "stopwords = set([\n",
    "    \"청원\", \"요청\", \"의원\", \"정부\", \"국민\", \"관련\", \"문제\", \"조치\", \"대책\", \"해결\", \"필요\", \"부탁\", \"보장\", \"의혹\", \"언제\", \"통해\", \"일치\",\n",
    "    \"검토\", \"확인\", \"요구\", \"마련\", \"처리\", \"사항\", \"위해\", \"위한\", \"대한\", \"있도록\", \"합니다\", \"대한민국\", \"국가\", \"국내\", \"발의\", \"개인\", \n",
    "    \"제한\", \"영향\", \"안정\", \"해당\", \"정책\", \"우려\", \"활동\", \"사례\", \"우선\", \"작성\", \"활용\", \"모든\", \"위협\", \"또한\", \"대해\", \"정의\", \"근거\",\n",
    "    \"상황\", \"정성\", \"야기\", \"다수\", \"주요\", \"효과\", \"도입\", \"방법\", \"적용\", \"진행\", \"최근\", \"전면\", \"판단\", \"유지\", \"과정\", \"각종\", \"원래\", \n",
    "    \"현재\", \"취지\", \"체제\", \"존속\", \"당초\", \"발전\"\n",
    "])\n",
    "\n",
    "# ✅ 분석 및 시각화 함수\n",
    "def show_wordcloud(selected_month):\n",
    "    if selected_month not in monthly_docs:\n",
    "        print(\"❌ 해당 월 데이터가 없습니다.\")\n",
    "        return\n",
    "    \n",
    "    doc = monthly_docs[selected_month]\n",
    "    words = doc.split()\n",
    "\n",
    "    # 불용어 제거\n",
    "    filtered_words = [word for word in words if word not in stopwords]\n",
    "\n",
    "    # TF-IDF 점수 반영\n",
    "    word_scores = {word: global_tfidf.get(word, 0) for word in filtered_words}\n",
    "\n",
    "    # ✅ 키워드 순위 출력\n",
    "    top_keywords = sorted(word_scores.items(), key=lambda x: x[1], reverse=True)[:30]\n",
    "    print(f\"\\n✅ {selected_month} 키워드 TOP 30 (불용어 제거)\")\n",
    "    for word, score in top_keywords:\n",
    "        print(f\"{word}: {score:.4f}\")\n",
    "\n",
    "    # ✅ 워드클라우드 생성 및 시각화\n",
    "    wordcloud = WordCloud(\n",
    "        font_path=\"/Library/Fonts/AppleGothic.ttf\",  # Windows: \"malgun.ttf\"\n",
    "        width=800,\n",
    "        height=600,\n",
    "        background_color='white'\n",
    "    ).generate_from_frequencies(word_scores)\n",
    "\n",
    "    plt.figure(figsize=(10, 8))\n",
    "    plt.imshow(wordcloud, interpolation=\"bilinear\")\n",
    "    plt.axis(\"off\")\n",
    "    plt.title(f\"{selected_month} 청원 트렌드 워드클라우드\", fontsize=20)\n",
    "    plt.show()\n",
    "\n",
    "    # ✅ 이미지 저장\n",
    "    wordcloud.to_file(f\"청원_트렌드_{selected_month}.png\")\n",
    "    print(f\"✅ 워드클라우드 이미지 저장 완료: 청원_트렌드_{selected_month}.png\")\n",
    "\n",
    "# ✅ 드롭다운 UI 연결\n",
    "month_dropdown = Dropdown(\n",
    "    options=sorted(monthly_docs.keys()),\n",
    "    description='분석할 월:',\n",
    "    style={'description_width': 'initial'},\n",
    "    layout={'width': '300px'}\n",
    ")\n",
    "\n",
    "interact(show_wordcloud, selected_month=month_dropdown)\n"
   ]
  },
  {
   "cell_type": "code",
   "execution_count": null,
   "metadata": {},
   "outputs": [],
   "source": []
  }
 ],
 "metadata": {
  "kernelspec": {
   "display_name": "Python 3 (ipykernel)",
   "language": "python",
   "name": "python3"
  },
  "language_info": {
   "codemirror_mode": {
    "name": "ipython",
    "version": 3
   },
   "file_extension": ".py",
   "mimetype": "text/x-python",
   "name": "python",
   "nbconvert_exporter": "python",
   "pygments_lexer": "ipython3",
   "version": "3.13.2"
  }
 },
 "nbformat": 4,
 "nbformat_minor": 4
}
