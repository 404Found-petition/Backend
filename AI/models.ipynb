{
 "cells": [
  {
   "cell_type": "code",
   "execution_count": 2,
   "metadata": {},
   "outputs": [
    {
     "name": "stdout",
     "output_type": "stream",
     "text": [
      "📂 현재 작업 디렉토리: /Users/sky/VSCode/petition/backend/AI\n",
      "✅ 모델 불러오기 성공!\n",
      "❌ 진행 중 청원 데이터 로드 실패: [Errno 2] No such file or directory: '진행중국민동의청원.csv'\n",
      "빈 DataFrame을 생성했습니다.\n",
      "❌ 크롤링된 청원 요지 데이터 로드 실패: [Errno 2] No such file or directory: '청원_처리_현황_크롤링완료.csv'\n"
     ]
    },
    {
     "name": "stdout",
     "output_type": "stream",
     "text": [
      "✅ 크롤링된 청원 요지 데이터 추가 완료!\n"
     ]
    },
    {
     "ename": "KeyError",
     "evalue": "'청원내용'",
     "output_type": "error",
     "traceback": [
      "\u001b[0;31m---------------------------------------------------------------------------\u001b[0m",
      "\u001b[0;31mKeyError\u001b[0m                                  Traceback (most recent call last)",
      "File \u001b[0;32m/Library/Frameworks/Python.framework/Versions/3.13/lib/python3.13/site-packages/pandas/core/indexes/base.py:3805\u001b[0m, in \u001b[0;36mIndex.get_loc\u001b[0;34m(self, key)\u001b[0m\n\u001b[1;32m   3804\u001b[0m \u001b[38;5;28;01mtry\u001b[39;00m:\n\u001b[0;32m-> 3805\u001b[0m     \u001b[38;5;28;01mreturn\u001b[39;00m \u001b[38;5;28;43mself\u001b[39;49m\u001b[38;5;241;43m.\u001b[39;49m\u001b[43m_engine\u001b[49m\u001b[38;5;241;43m.\u001b[39;49m\u001b[43mget_loc\u001b[49m\u001b[43m(\u001b[49m\u001b[43mcasted_key\u001b[49m\u001b[43m)\u001b[49m\n\u001b[1;32m   3806\u001b[0m \u001b[38;5;28;01mexcept\u001b[39;00m \u001b[38;5;167;01mKeyError\u001b[39;00m \u001b[38;5;28;01mas\u001b[39;00m err:\n",
      "File \u001b[0;32mindex.pyx:167\u001b[0m, in \u001b[0;36mpandas._libs.index.IndexEngine.get_loc\u001b[0;34m()\u001b[0m\n",
      "File \u001b[0;32mindex.pyx:196\u001b[0m, in \u001b[0;36mpandas._libs.index.IndexEngine.get_loc\u001b[0;34m()\u001b[0m\n",
      "File \u001b[0;32mpandas/_libs/hashtable_class_helper.pxi:7081\u001b[0m, in \u001b[0;36mpandas._libs.hashtable.PyObjectHashTable.get_item\u001b[0;34m()\u001b[0m\n",
      "File \u001b[0;32mpandas/_libs/hashtable_class_helper.pxi:7089\u001b[0m, in \u001b[0;36mpandas._libs.hashtable.PyObjectHashTable.get_item\u001b[0;34m()\u001b[0m\n",
      "\u001b[0;31mKeyError\u001b[0m: '청원내용'",
      "\nThe above exception was the direct cause of the following exception:\n",
      "\u001b[0;31mKeyError\u001b[0m                                  Traceback (most recent call last)",
      "Cell \u001b[0;32mIn[1], line 69\u001b[0m\n\u001b[1;32m     66\u001b[0m     \u001b[38;5;28mprint\u001b[39m(\u001b[38;5;124mf\u001b[39m\u001b[38;5;124m\"\u001b[39m\u001b[38;5;124m❌ 크롤링된 청원 요지 데이터 로드 실패: \u001b[39m\u001b[38;5;132;01m{\u001b[39;00me\u001b[38;5;132;01m}\u001b[39;00m\u001b[38;5;124m\"\u001b[39m)\n\u001b[1;32m     68\u001b[0m \u001b[38;5;66;03m# 7️⃣ BERT 임베딩 변환\u001b[39;00m\n\u001b[0;32m---> 69\u001b[0m test_texts \u001b[38;5;241m=\u001b[39m (진행_청원[\u001b[38;5;124m\"\u001b[39m\u001b[38;5;124m청원제목\u001b[39m\u001b[38;5;124m\"\u001b[39m] \u001b[38;5;241m+\u001b[39m \u001b[38;5;124m\"\u001b[39m\u001b[38;5;124m \u001b[39m\u001b[38;5;124m\"\u001b[39m \u001b[38;5;241m+\u001b[39m \u001b[43m진행_청원\u001b[49m\u001b[43m[\u001b[49m\u001b[38;5;124;43m\"\u001b[39;49m\u001b[38;5;124;43m청원내용\u001b[39;49m\u001b[38;5;124;43m\"\u001b[39;49m\u001b[43m]\u001b[49m\u001b[38;5;241m.\u001b[39mfillna(\u001b[38;5;124m\"\u001b[39m\u001b[38;5;124m\"\u001b[39m))\u001b[38;5;241m.\u001b[39mastype(\u001b[38;5;28mstr\u001b[39m)\u001b[38;5;241m.\u001b[39mtolist()\n\u001b[1;32m     70\u001b[0m test_embeddings \u001b[38;5;241m=\u001b[39m get_bert_embedding(test_texts)\n\u001b[1;32m     72\u001b[0m \u001b[38;5;66;03m# 8️⃣ 승인 확률 예측\u001b[39;00m\n",
      "File \u001b[0;32m/Library/Frameworks/Python.framework/Versions/3.13/lib/python3.13/site-packages/pandas/core/frame.py:4102\u001b[0m, in \u001b[0;36mDataFrame.__getitem__\u001b[0;34m(self, key)\u001b[0m\n\u001b[1;32m   4100\u001b[0m \u001b[38;5;28;01mif\u001b[39;00m \u001b[38;5;28mself\u001b[39m\u001b[38;5;241m.\u001b[39mcolumns\u001b[38;5;241m.\u001b[39mnlevels \u001b[38;5;241m>\u001b[39m \u001b[38;5;241m1\u001b[39m:\n\u001b[1;32m   4101\u001b[0m     \u001b[38;5;28;01mreturn\u001b[39;00m \u001b[38;5;28mself\u001b[39m\u001b[38;5;241m.\u001b[39m_getitem_multilevel(key)\n\u001b[0;32m-> 4102\u001b[0m indexer \u001b[38;5;241m=\u001b[39m \u001b[38;5;28;43mself\u001b[39;49m\u001b[38;5;241;43m.\u001b[39;49m\u001b[43mcolumns\u001b[49m\u001b[38;5;241;43m.\u001b[39;49m\u001b[43mget_loc\u001b[49m\u001b[43m(\u001b[49m\u001b[43mkey\u001b[49m\u001b[43m)\u001b[49m\n\u001b[1;32m   4103\u001b[0m \u001b[38;5;28;01mif\u001b[39;00m is_integer(indexer):\n\u001b[1;32m   4104\u001b[0m     indexer \u001b[38;5;241m=\u001b[39m [indexer]\n",
      "File \u001b[0;32m/Library/Frameworks/Python.framework/Versions/3.13/lib/python3.13/site-packages/pandas/core/indexes/base.py:3812\u001b[0m, in \u001b[0;36mIndex.get_loc\u001b[0;34m(self, key)\u001b[0m\n\u001b[1;32m   3807\u001b[0m     \u001b[38;5;28;01mif\u001b[39;00m \u001b[38;5;28misinstance\u001b[39m(casted_key, \u001b[38;5;28mslice\u001b[39m) \u001b[38;5;129;01mor\u001b[39;00m (\n\u001b[1;32m   3808\u001b[0m         \u001b[38;5;28misinstance\u001b[39m(casted_key, abc\u001b[38;5;241m.\u001b[39mIterable)\n\u001b[1;32m   3809\u001b[0m         \u001b[38;5;129;01mand\u001b[39;00m \u001b[38;5;28many\u001b[39m(\u001b[38;5;28misinstance\u001b[39m(x, \u001b[38;5;28mslice\u001b[39m) \u001b[38;5;28;01mfor\u001b[39;00m x \u001b[38;5;129;01min\u001b[39;00m casted_key)\n\u001b[1;32m   3810\u001b[0m     ):\n\u001b[1;32m   3811\u001b[0m         \u001b[38;5;28;01mraise\u001b[39;00m InvalidIndexError(key)\n\u001b[0;32m-> 3812\u001b[0m     \u001b[38;5;28;01mraise\u001b[39;00m \u001b[38;5;167;01mKeyError\u001b[39;00m(key) \u001b[38;5;28;01mfrom\u001b[39;00m\u001b[38;5;250m \u001b[39m\u001b[38;5;21;01merr\u001b[39;00m\n\u001b[1;32m   3813\u001b[0m \u001b[38;5;28;01mexcept\u001b[39;00m \u001b[38;5;167;01mTypeError\u001b[39;00m:\n\u001b[1;32m   3814\u001b[0m     \u001b[38;5;66;03m# If we have a listlike key, _check_indexing_error will raise\u001b[39;00m\n\u001b[1;32m   3815\u001b[0m     \u001b[38;5;66;03m#  InvalidIndexError. Otherwise we fall through and re-raise\u001b[39;00m\n\u001b[1;32m   3816\u001b[0m     \u001b[38;5;66;03m#  the TypeError.\u001b[39;00m\n\u001b[1;32m   3817\u001b[0m     \u001b[38;5;28mself\u001b[39m\u001b[38;5;241m.\u001b[39m_check_indexing_error(key)\n",
      "\u001b[0;31mKeyError\u001b[0m: '청원내용'"
     ]
    }
   ],
   "source": [
    "# ================================\n",
    "# 국민 동의 청원 AI 모델 - 예측 코드\n",
    "# ================================\n",
    "\n",
    "# 📦 1️⃣~6️⃣: 라이브러리, 모델 로딩, 데이터 로드 및 병합\n",
    "\n",
    "import os\n",
    "import pickle\n",
    "import pandas as pd\n",
    "\n",
    "print(\"📂 현재 작업 디렉토리:\", os.getcwd())\n",
    "\n",
    "# 2️⃣ 모델 불러오기\n",
    "try:\n",
    "    with open(\"청원_예측모델.pkl\", \"rb\") as model_file:\n",
    "        model = pickle.load(model_file)\n",
    "    print(\"✅ 모델 불러오기 성공!\")\n",
    "except Exception as e:\n",
    "    print(f\"❌ 모델 불러오기 실패: {e}\")\n",
    "    exit()\n",
    "\n",
    "# 3️⃣ 진행 중 청원 CSV 로드\n",
    "file_path = \"진행중국민동의청원.csv\"\n",
    "try:\n",
    "    진행_청원 = pd.read_csv(file_path, encoding=\"cp949\")\n",
    "    print(\"✅ 진행 중 청원 데이터 로드 성공!\")\n",
    "except Exception as e:\n",
    "    print(f\"❌ 진행 중 청원 데이터 로드 실패: {e}\")\n",
    "    진행_청원 = pd.DataFrame(columns=[\"청원제목\", \"청원내용\"])\n",
    "    print(\"빈 DataFrame을 생성했습니다.\")\n",
    "\n",
    "# 4️⃣ 제출 주체 컬럼 생성\n",
    "진행_청원[\"제출주체\"] = 진행_청원[\"청원제목\"].apply(lambda x: \"국회의원\" if \"법안\" in str(x) else \"국민\")\n",
    "진행_청원[\"제출주체\"] = 진행_청원[\"제출주체\"].map({\"국민\": 0, \"국회의원\": 1})\n",
    "\n",
    "# 6️⃣ 크롤링된 '청원 요지' 추가 병합\n",
    "try:\n",
    "    크롤링된_청원 = pd.read_csv(\"청원_처리_현황_크롤링완료.csv\", encoding=\"utf-8\")\n",
    "    진행_청원 = 진행_청원.merge(크롤링된_청원[[\"청원제목\", \"청원내용\"]], on=\"청원제목\", how=\"left\")\n",
    "    print(\"✅ 크롤링된 청원 요지 데이터 추가 완료!\")\n",
    "except Exception as e:\n",
    "    print(f\"❌ 크롤링된 청원 요지 데이터 로드 실패: {e}\")\n"
   ]
  },
  {
   "cell_type": "code",
   "execution_count": 1,
   "metadata": {},
   "outputs": [
    {
     "name": "stdout",
     "output_type": "stream",
     "text": [
      "The repository for monologg/kobert contains custom code which must be executed to correctly load the model. You can inspect the repository content at https://hf.co/monologg/kobert.\n",
      "You can avoid this prompt in future by passing the argument `trust_remote_code=True`.\n",
      "\n",
      "Do you wish to run the custom code? [y/N]  y\n"
     ]
    },
    {
     "ename": "NameError",
     "evalue": "name '진행_청원' is not defined",
     "output_type": "error",
     "traceback": [
      "\u001b[0;31m---------------------------------------------------------------------------\u001b[0m",
      "\u001b[0;31mNameError\u001b[0m                                 Traceback (most recent call last)",
      "Cell \u001b[0;32mIn[1], line 23\u001b[0m\n\u001b[1;32m     20\u001b[0m     \u001b[38;5;28;01mreturn\u001b[39;00m np\u001b[38;5;241m.\u001b[39marray(embeddings)\n\u001b[1;32m     22\u001b[0m \u001b[38;5;66;03m# 입력 텍스트 결합\u001b[39;00m\n\u001b[0;32m---> 23\u001b[0m test_texts \u001b[38;5;241m=\u001b[39m (\u001b[43m진행_청원\u001b[49m[\u001b[38;5;124m\"\u001b[39m\u001b[38;5;124m청원제목\u001b[39m\u001b[38;5;124m\"\u001b[39m] \u001b[38;5;241m+\u001b[39m \u001b[38;5;124m\"\u001b[39m\u001b[38;5;124m \u001b[39m\u001b[38;5;124m\"\u001b[39m \u001b[38;5;241m+\u001b[39m 진행_청원[\u001b[38;5;124m\"\u001b[39m\u001b[38;5;124m청원내용\u001b[39m\u001b[38;5;124m\"\u001b[39m]\u001b[38;5;241m.\u001b[39mfillna(\u001b[38;5;124m\"\u001b[39m\u001b[38;5;124m\"\u001b[39m))\u001b[38;5;241m.\u001b[39mastype(\u001b[38;5;28mstr\u001b[39m)\u001b[38;5;241m.\u001b[39mtolist()\n\u001b[1;32m     24\u001b[0m test_embeddings \u001b[38;5;241m=\u001b[39m get_bert_embedding(test_texts)\n\u001b[1;32m     26\u001b[0m \u001b[38;5;66;03m# 예측\u001b[39;00m\n",
      "\u001b[0;31mNameError\u001b[0m: name '진행_청원' is not defined"
     ]
    }
   ],
   "source": [
    "# 🧠 7️⃣~8️⃣: BERT 임베딩 생성 + 예측 + 결과 저장\n",
    "\n",
    "from tqdm import tqdm\n",
    "import numpy as np\n",
    "import torch\n",
    "from transformers import AutoTokenizer, AutoModel\n",
    "\n",
    "# KoBERT 로딩\n",
    "tokenizer = AutoTokenizer.from_pretrained(\"monologg/kobert\")\n",
    "model_bert = AutoModel.from_pretrained(\"monologg/kobert\")\n",
    "\n",
    "def get_bert_embedding(texts):\n",
    "    embeddings = []\n",
    "    for text in tqdm(texts, desc=\"BERT 임베딩 생성\"):\n",
    "        inputs = tokenizer(text, return_tensors=\"pt\", truncation=True, padding=\"max_length\", max_length=128)\n",
    "        with torch.no_grad():\n",
    "            outputs = model_bert(**inputs)\n",
    "        cls_embedding = outputs.last_hidden_state[:, 0, :].squeeze().numpy()\n",
    "        embeddings.append(cls_embedding)\n",
    "    return np.array(embeddings)\n",
    "\n",
    "# 입력 텍스트 결합\n",
    "test_texts = (진행_청원[\"청원제목\"] + \" \" + 진행_청원[\"청원내용\"].fillna(\"\")).astype(str).tolist()\n",
    "test_embeddings = get_bert_embedding(test_texts)\n",
    "\n",
    "# 예측\n",
    "try:\n",
    "    X_test = np.hstack((test_embeddings, 진행_청원[[\"제출주체\"]].values))\n",
    "    진행_청원[\"승인 확률\"] = model.predict_proba(X_test)[:, 1] * 100\n",
    "    print(\"✅ 승인 확률 예측 성공!\")\n",
    "\n",
    "    # 저장\n",
    "    진행_청원[[\"청원제목\", \"승인 확률\"]].to_csv(\"예측결과.csv\", index=False, encoding=\"utf-8-sig\")\n",
    "    print(\"✅ 예측 결과 저장 완료! (예측결과.csv)\")\n",
    "except Exception as e:\n",
    "    print(f\"❌ 승인 확률 예측 실패: {e}\")\n"
   ]
  },
  {
   "cell_type": "code",
   "execution_count": null,
   "metadata": {},
   "outputs": [],
   "source": []
  }
 ],
 "metadata": {
  "kernelspec": {
   "display_name": "Python 3 (ipykernel)",
   "language": "python",
   "name": "python3"
  },
  "language_info": {
   "codemirror_mode": {
    "name": "ipython",
    "version": 3
   },
   "file_extension": ".py",
   "mimetype": "text/x-python",
   "name": "python",
   "nbconvert_exporter": "python",
   "pygments_lexer": "ipython3",
   "version": "3.13.2"
  }
 },
 "nbformat": 4,
 "nbformat_minor": 4
}
