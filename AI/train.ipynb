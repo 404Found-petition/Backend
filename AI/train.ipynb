{
 "cells": [
  {
   "cell_type": "code",
   "execution_count": 1,
   "metadata": {},
   "outputs": [
    {
     "name": "stdin",
     "output_type": "stream",
     "text": [
      "The repository for monologg/kobert contains custom code which must be executed to correctly load the model. You can inspect the repository content at https://hf.co/monologg/kobert.\n",
      "You can avoid this prompt in future by passing the argument `trust_remote_code=True`.\n",
      "\n",
      "Do you wish to run the custom code? [y/N]  y\n"
     ]
    },
    {
     "name": "stderr",
     "output_type": "stream",
     "text": [
      "BERT 임베딩 생성: 100%|███████| 3730/3730 [01:48<00:00, 34.41it/s]\n"
     ]
    },
    {
     "name": "stdout",
     "output_type": "stream",
     "text": [
      "✅ X_train 및 y_train 저장 완료!\n",
      "✅ 모델 및 스케일러 저장 완료!\n"
     ]
    }
   ],
   "source": [
    "import os\n",
    "import pandas as pd\n",
    "import numpy as np\n",
    "import torch\n",
    "import pickle\n",
    "from tqdm import tqdm\n",
    "from transformers import AutoTokenizer, AutoModel\n",
    "from xgboost import XGBRegressor  # 분류 → 회귀로 변경\n",
    "from sklearn.preprocessing import MinMaxScaler\n",
    "\n",
    "# 데이터 로드\n",
    "file_path = \"청원_처리_현황_크롤링완료.csv\"\n",
    "train_data = pd.read_csv(file_path, encoding=\"utf-8\")\n",
    "\n",
    "# 처리결과 점수화\n",
    "def classify_result(result):\n",
    "    mapping = {\n",
    "        \"철회\": 0,\n",
    "        \"임기만료폐기\": 20,\n",
    "        \"대안반영폐기\": 40,\n",
    "        \"본회의불부의\": 60,\n",
    "        \"본회의에 부의하지 아니하기로 의결\": 80,\n",
    "        \"원안가결\": 100,\n",
    "    }\n",
    "    for key, value in mapping.items():\n",
    "        if key in str(result):\n",
    "            return value\n",
    "    return 50  # 기타 처리 결과\n",
    "\n",
    "train_data[\"처리결과_점수\"] = train_data[\"의결결과\"].apply(classify_result)\n",
    "train_data[\"제출주체\"] = train_data[\"청원명\"].apply(lambda x: 1 if \"법안\" in str(x) else 0)\n",
    "\n",
    "# KoBERT 임베딩 생성\n",
    "tokenizer = AutoTokenizer.from_pretrained(\"monologg/kobert\")\n",
    "model = AutoModel.from_pretrained(\"monologg/kobert\")\n",
    "\n",
    "def get_bert_embedding(texts):\n",
    "    embeddings = []\n",
    "    for text in tqdm(texts, desc=\"BERT 임베딩 생성\"):\n",
    "        inputs = tokenizer(text, return_tensors=\"pt\", truncation=True, padding=\"max_length\", max_length=128)\n",
    "        with torch.no_grad():\n",
    "            outputs = model(**inputs)\n",
    "        cls_embedding = outputs.last_hidden_state[:, 0, :].squeeze().numpy()\n",
    "        embeddings.append(cls_embedding)\n",
    "    return np.array(embeddings)\n",
    "\n",
    "train_texts = (train_data[\"청원명\"] + \" \" + train_data[\"청원내용\"].fillna(\"\"))\n",
    "train_embeddings = get_bert_embedding(train_texts.tolist())\n",
    "\n",
    "# 데이터 준비\n",
    "X_train = np.hstack((train_embeddings, train_data[[\"제출주체\"]].values))\n",
    "y_train = train_data[\"처리결과_점수\"].values.reshape(-1, 1)\n",
    "\n",
    "#데이터 저장\n",
    "with open(\"X_train.pkl\", \"wb\") as file:\n",
    "    pickle.dump(X_train, file)\n",
    "\n",
    "with open(\"y_train.pkl\", \"wb\") as file:\n",
    "    pickle.dump(y_train, file)\n",
    "\n",
    "print(\"✅ X_train 및 y_train 저장 완료!\")\n",
    "\n",
    "# 정규화\n",
    "scaler = MinMaxScaler()\n",
    "y_train_scaled = scaler.fit_transform(y_train)\n",
    "\n",
    "# XGBoost 회귀 모델 학습\n",
    "model = XGBRegressor(n_estimators=100, learning_rate=0.1, max_depth=6, random_state=42)\n",
    "model.fit(X_train, y_train_scaled.ravel())\n",
    "\n",
    "# 모델 및 스케일러 저장\n",
    "with open(\"청원_예측모델.pkl\", \"wb\") as model_file:\n",
    "    pickle.dump(model, model_file)\n",
    "\n",
    "with open(\"scaler.pkl\", \"wb\") as scaler_file:\n",
    "    pickle.dump(scaler, scaler_file)\n",
    "\n",
    "print(\"✅ 모델 및 스케일러 저장 완료!\")"
   ]
  },
  {
   "cell_type": "code",
   "execution_count": 2,
   "metadata": {},
   "outputs": [
    {
     "name": "stdout",
     "output_type": "stream",
     "text": [
      "✅ X_train 및 y_train 불러오기 성공!\n",
      "📊 모델 성능 평가 결과:\n",
      "✅ MAE (Mean Absolute Error): 3.2202\n",
      "✅ MSE (Mean Squared Error): 18.9943\n",
      "✅ RMSE (Root Mean Squared Error): 4.3582\n",
      "✅ R² Score: 0.9444\n"
     ]
    }
   ],
   "source": [
    "from sklearn.metrics import mean_absolute_error, mean_squared_error, r2_score\n",
    "import pickle\n",
    "\n",
    "# 저장된 모델 및 스케일러 불러오기\n",
    "with open(\"X_train.pkl\", \"rb\") as file:\n",
    "    X_train = pickle.load(file)\n",
    "\n",
    "with open(\"y_train.pkl\", \"rb\") as file:\n",
    "    y_train = pickle.load(file)\n",
    "\n",
    "print(\"✅ X_train 및 y_train 불러오기 성공!\")\n",
    "\n",
    "# 예측값 생성 (훈련 데이터에 대해)\n",
    "y_train_pred_scaled = model.predict(X_train)\n",
    "y_train_pred = scaler.inverse_transform(y_train_pred_scaled.reshape(-1, 1)).flatten()\n",
    "\n",
    "# 평가 지표 계산\n",
    "mae = mean_absolute_error(y_train, y_train_pred)\n",
    "mse = mean_squared_error(y_train, y_train_pred)\n",
    "rmse = np.sqrt(mse)\n",
    "r2 = r2_score(y_train, y_train_pred)\n",
    "\n",
    "# 결과 출력\n",
    "print(\"📊 모델 성능 평가 결과:\")\n",
    "print(f\"✅ MAE (Mean Absolute Error): {mae:.4f}\")\n",
    "print(f\"✅ MSE (Mean Squared Error): {mse:.4f}\")\n",
    "print(f\"✅ RMSE (Root Mean Squared Error): {rmse:.4f}\")\n",
    "print(f\"✅ R² Score: {r2:.4f}\")"
   ]
  },
  {
   "cell_type": "code",
   "execution_count": null,
   "metadata": {},
   "outputs": [],
   "source": []
  }
 ],
 "metadata": {
  "kernelspec": {
   "display_name": "Python 3 (ipykernel)",
   "language": "python",
   "name": "python3"
  },
  "language_info": {
   "codemirror_mode": {
    "name": "ipython",
    "version": 3
   },
   "file_extension": ".py",
   "mimetype": "text/x-python",
   "name": "python",
   "nbconvert_exporter": "python",
   "pygments_lexer": "ipython3",
   "version": "3.13.2"
  }
 },
 "nbformat": 4,
 "nbformat_minor": 4
}
