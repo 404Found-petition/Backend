{
 "cells": [
  {
   "cell_type": "code",
   "execution_count": 4,
   "metadata": {},
   "outputs": [
    {
     "name": "stdout",
     "output_type": "stream",
     "text": [
      "✅ 분야별 청원 수 전체 출력:\n",
      "\n",
      "정치·행정: 7건\n",
      "국방·외교: 1건\n",
      "사회: 1건\n"
     ]
    }
   ],
   "source": [
    "import pandas as pd\n",
    "import matplotlib.pyplot as plt\n",
    "\n",
    "# ✅ CSV 파일 불러오기\n",
    "df = pd.read_csv(\"청원요지_GPT분류.csv\")\n",
    "\n",
    "# ✅ 분야별 청원 수 집계\n",
    "category_counts = df[\"분야\"].value_counts().sort_values(ascending=False)\n",
    "\n",
    "# ✅ 전체 분야 출력\n",
    "print(\"✅ 분야별 청원 수 전체 출력:\\n\")\n",
    "for category, count in category_counts.items():\n",
    "    print(f\"{category}: {count}건\")\n",
    "    "
   ]
  },
  {
   "cell_type": "code",
   "execution_count": null,
   "metadata": {},
   "outputs": [],
   "source": []
  }
 ],
 "metadata": {
  "kernelspec": {
   "display_name": "Python 3 (ipykernel)",
   "language": "python",
   "name": "python3"
  },
  "language_info": {
   "codemirror_mode": {
    "name": "ipython",
    "version": 3
   },
   "file_extension": ".py",
   "mimetype": "text/x-python",
   "name": "python",
   "nbconvert_exporter": "python",
   "pygments_lexer": "ipython3",
   "version": "3.13.2"
  }
 },
 "nbformat": 4,
 "nbformat_minor": 4
}
